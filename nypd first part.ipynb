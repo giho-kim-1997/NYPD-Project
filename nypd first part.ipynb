{
 "cells": [
  {
   "cell_type": "markdown",
   "metadata": {},
   "source": [
    "# NYPD Civilian Complaints\n",
    "This project contains data on 12,000 civilian complaints filed against New York City police officers. Interesting questions to consider include:\n",
    "- Does the length that the complaint is open depend on ethnicity/age/gender?\n",
    "- Are white-officer vs non-white complaintant cases more likely to go against the complainant? \n",
    "- Are allegations more severe for cases in which the officer and complaintant are not the same ethnicity?\n",
    "- Are the complaints of women more succesful than men (for the same allegations?)\n",
    "\n",
    "There are a lot of questions that can be asked from this data, so be creative! You are not limited to the sample questions above.\n",
    "\n",
    "### Getting the Data\n",
    "The data and its corresponding data dictionary is downloadable [here](https://www.propublica.org/datastore/dataset/civilian-complaints-against-new-york-city-police-officers).\n",
    "\n",
    "Note: you don't need to provide any information to obtain the data. Just agree to the terms of use and click \"submit.\"\n",
    "\n",
    "### Cleaning and EDA\n",
    "- Clean the data.\n",
    "    - Certain fields have \"missing\" data that isn't labeled as missing. For example, there are fields with the value \"Unknown.\" Do some exploration to find those values and convert them to null values.\n",
    "    - You may also want to combine the date columns to create a `datetime` column for time-series exploration.\n",
    "- Understand the data in ways relevant to your question using univariate and bivariate analysis of the data as well as aggregations.\n",
    "\n",
    "### Assessment of Missingness\n",
    "- Assess the missingness per the requirements in `project03.ipynb`\n",
    "\n",
    "### Hypothesis Test / Permutation Test\n",
    "Find a hypothesis test or permutation test to perform. You can use the questions at the top of the notebook for inspiration."
   ]
  },
  {
   "cell_type": "markdown",
   "metadata": {},
   "source": [
    "# Summary of Findings\n",
    "\n",
    "### Introduction\n",
    "\n",
    "If the officer and complaintant are not the same ethnicity, does the number of complaints increase in comparison to if they are the same ethnicity?\n",
    "\n",
    "There are a lot of known cases which police-officers are more likely to be forcible against civilians who have different ethnicity such as George Floyd case. The dataset 'allegations_202007271729' contains informations of that the complanints of civilians against police officer of NYPD. Every row in dataset have informations of complainants and police officers such as ethnicity, age, gender, reason and time of complaints was made. To check whether the question above is true or not, I want to find out relationship between the ethnicity of complainants and ethnicity of police officers. Furthermore, I would be able to find out which race of the complainants made more complaints toward police officers who have different ethnicity.\n",
    "\n",
    "For examining my queries, I would focus on specific columns, 'mos_ethnicity' (police officers' race), 'complainant_ethnicity' (complainants' race), to find out the realtionship between complainants and police officers.\n",
    "\n",
    "### Cleaning and EDA\n",
    "In the dataset, the column, 'complainant_ethnicity' contains missing values, 'unknown' and 'refused'. Therefore, I change the missing values to nan to describe that complainants who didn't report their races.\n",
    "\n",
    "The first bar graph represents that the counts of ethnicities of complainants. I can tell that black civilians are more likely to report complaints. \n",
    "\n",
    "The second bar graph represents that the counts of ethnicities of police officers. I use the column 'month_received' because it does not include any missing value to count ethnicities of police officers. I can tell that white police officers are more likely to be reported for complaints. \n",
    "\n",
    "The third bar graph represents that the counts of ethnicities of complainants on each ethnicity of police officers. I can tell that black civilians are more likely to report complaints about all the cases of the race of police officers.\n",
    "\n",
    "According to the graphs, I can assume that black civilians are the most ones which made complaints on police officers of NYPD for all cases of ethnicities of police officers.\n",
    "\n",
    "### Assessment of Missingness\n",
    "I think that missingness of 'complainant_ethnicity' would be NMAR. Some complainants doesn't want to report their races since police officers will see the complainant's race and might develop racism toward complainant's ethinic.\n",
    "\n",
    "The dataset contains both categorical and quantitative columns. To perform permutation test for missingness of 'complainant_ethnicity' on both categorical and quantitive columns, I use total variance distance to perform categorical columns and use kolmogorov-smirnov for quantitative columns.\n",
    "\n",
    "After the permutation test for missingness of 'complainant_ethnicity', every columns' p-values are less than significance level (0.05) so I can conclude that missingness of 'complainant_ethnicity' depends on the all other columns heavily. Thus, my first assumtion was wrong and 'complainant_ethnicity' is not NMAR. However, I have to find at least one column for which missingness is dependent and one for which missingness is not dependent to get the credit. Thus, I had to see other column to do permutation test.\n",
    "\n",
    "Since the column 'complainant_ethnicity' depends on the all other columns, I try to find other column which has at least one column for which missingness is dependent and one for which missingness is not dependent. I found other column 'contact_reason' which might not be NMAR since it may depends on other columns such as 'outcome_description'. If a person who didn't get arrested in 'outcome_description', then there might be no reason to contact by police officers. Thus, it might be MAR. \n",
    "\n",
    "The permutation test perform same as I do for 'complainant_ethnicity'. For categorical columns, I use tvd method to perform permutation test and for quantitative columns, I use kolmogorov-smirnov method to perform permutation test.\n",
    "\n",
    "I made dataframe of p-value of each columns and as you can see that some of p-values, suchs as for 'outcome_description', 'allegation' and etc, are less than significance level 0.05 and other p-values, such as 'mos_gender', 'mos_ethnicity' are greater than 0.05.\n",
    "\n",
    "Since the p-value for 'outcome_description' is less than significance level, I can tell that missingness of 'contact_reason' depends on the 'outcome_description' as I thought. On the other hand, p-value for 'mos_gender'\tis greater than significance level (0.770 > 0.05), so I can tell that the missingess of 'contact_reason' does not depends on 'mos_gender' which make sense that the gender of police officer and missingness of 'contact_reason' would not be significant related. \n",
    "\n",
    "To conclude, if my query requires to use 'contact_reason' column, then my answer would be incorrect since there is dependency between 'contact_reason' column with other columns such as 'outcome_description'. Since my question, \"If the officer and complaintant are not the same ethnicity, does the number of complaints increase in comparison to if they are the same ethnicity?\", requires to use 'complainant_ethinicity' and 'mos_ethinicity' so that my answer might be incorrect since the missingness of 'complainant_ethinicity' heavily depends on 'mos_ethinicity' with p-value = 0.0.\n",
    "\n",
    "### Hypothesis Test\n",
    "While doing the cleaning and EDA part, I could see that the number of black civilians' complaints is much more than other race civilians' complaints on every case of the ethnicity of police officers. Thus, one question appears that there will be probably more complaints when police officer investigates civilian whose race is black.\n",
    "\n",
    "Null Hypothesis would be that the number of complaints along the ethnicity of complainants are equally distributed as race distribution in New york.\n",
    "\n",
    "Alternative Hypothesis would be that number of complaints along the ethnicity of complainants are not equally distributed as race distribution in New York.\n",
    "\n",
    "I would use total variation distance to do my hypothesis test. \n",
    "\n",
    "First, I found data of population race distribution in New York from https://worldpopulationreview.com/us-cities/new-york-city-ny-population.\n",
    "\n",
    "My test statistic is total variation distance between population race diversity distribution in New York and ethnicity distribution of complaints in the dataset.\n",
    "\n",
    "significant level and result of the p-value = 0.05, 0.0\n",
    "\n",
    "To conclude, The p-value is 0.0 which is not larger than 0.05, I can reject the null hypothesis and accept the alternative hypothesis.\n",
    "As a result, I can tell that the number of complaints along the ethnicity of complainants are not equally distributed as race distribution in New York and furthermore, the number of complaints is heavily dependent on the ethinicity of complainants."
   ]
  },
  {
   "cell_type": "markdown",
   "metadata": {},
   "source": [
    "# Code"
   ]
  },
  {
   "cell_type": "code",
   "execution_count": 80,
   "metadata": {
    "ExecuteTime": {
     "end_time": "2019-10-31T23:36:28.652554Z",
     "start_time": "2019-10-31T23:36:27.180520Z"
    }
   },
   "outputs": [],
   "source": [
    "from scipy.stats import ks_2samp\n",
    "import matplotlib.pyplot as plt\n",
    "import numpy as np\n",
    "import os\n",
    "import pandas as pd\n",
    "import seaborn as sns\n",
    "%matplotlib inline\n",
    "%config InlineBackend.figure_format = 'retina'  # Higher resolution figures"
   ]
  },
  {
   "cell_type": "markdown",
   "metadata": {},
   "source": [
    "### Cleaning and EDA"
   ]
  },
  {
   "cell_type": "code",
   "execution_count": 5,
   "metadata": {
    "ExecuteTime": {
     "end_time": "2019-10-31T23:36:28.657068Z",
     "start_time": "2019-10-31T23:36:28.654650Z"
    }
   },
   "outputs": [],
   "source": [
    "# call data\n",
    "nypd = pd.read_csv('allegations_202007271729.csv')\n",
    "\n",
    "# see the columns\n",
    "nypd.columns\n",
    "\n",
    "# to check whether there are missing values in the column\n",
    "nypd['complainant_ethnicity'].unique()\n",
    "nypd['mos_ethnicity'].unique()\n",
    "\n",
    "# missing values in complainant_ethnicity : Refused, Unknown\n",
    "\n",
    "# change the missing values to nan\n",
    "nypd['complainant_ethnicity'] = nypd['complainant_ethnicity'].replace({'Refused': np.nan, 'Unknown': np.nan})"
   ]
  },
  {
   "cell_type": "markdown",
   "metadata": {},
   "source": [
    "### complainant race counts"
   ]
  },
  {
   "cell_type": "code",
   "execution_count": 6,
   "metadata": {},
   "outputs": [
    {
     "data": {
      "text/plain": [
       "Text(0, 0.5, 'Count')"
      ]
     },
     "execution_count": 6,
     "metadata": {},
     "output_type": "execute_result"
    },
    {
     "data": {
      "image/png": "[encoded data removed]",
      "text/plain": [
       "<Figure size 432x288 with 1 Axes>"
      ]
     },
     "metadata": {
      "image/png": {
       "height": 334,
       "width": 401
      },
      "needs_background": "light"
     },
     "output_type": "display_data"
    }
   ],
   "source": [
    "nypd['complainant_ethnicity'].value_counts().plot(kind = 'bar')\n",
    "plt.xlabel('complainant_ethnicity')\n",
    "plt.ylabel('Count')"
   ]
  },
  {
   "cell_type": "markdown",
   "metadata": {},
   "source": [
    "### police officer race counts"
   ]
  },
  {
   "cell_type": "code",
   "execution_count": 7,
   "metadata": {},
   "outputs": [
    {
     "data": {
      "text/plain": [
       "Text(0, 0.5, 'Count')"
      ]
     },
     "execution_count": 7,
     "metadata": {},
     "output_type": "execute_result"
    },
    {
     "data": {
      "image/png": "[encoded data removed]",
      "text/plain": [
       "<Figure size 432x288 with 1 Axes>"
      ]
     },
     "metadata": {
      "image/png": {
       "height": 334,
       "width": 401
      },
      "needs_background": "light"
     },
     "output_type": "display_data"
    }
   ],
   "source": [
    "# check the counts for each race of police officers\n",
    "nypd.groupby('mos_ethnicity').agg({'month_received': 'count'}).plot(kind = 'bar')\n",
    "plt.xlabel('mos_ethnicity')\n",
    "plt.ylabel('Count')"
   ]
  },
  {
   "cell_type": "markdown",
   "metadata": {},
   "source": [
    "### complainant race on each police officers race"
   ]
  },
  {
   "cell_type": "code",
   "execution_count": 8,
   "metadata": {},
   "outputs": [
    {
     "data": {
      "text/html": [
       "<div>\n",
       "<style scoped>\n",
       "    .dataframe tbody tr th:only-of-type {\n",
       "        vertical-align: middle;\n",
       "    }\n",
       "\n",
       "    .dataframe tbody tr th {\n",
       "        vertical-align: top;\n",
       "    }\n",
       "\n",
       "    .dataframe thead th {\n",
       "        text-align: right;\n",
       "    }\n",
       "</style>\n",
       "<table border=\"1\" class=\"dataframe\">\n",
       "  <thead>\n",
       "    <tr style=\"text-align: right;\">\n",
       "      <th>complainant_ethnicity</th>\n",
       "      <th>American Indian</th>\n",
       "      <th>Asian</th>\n",
       "      <th>Black</th>\n",
       "      <th>Hispanic</th>\n",
       "      <th>Other Race</th>\n",
       "      <th>White</th>\n",
       "    </tr>\n",
       "    <tr>\n",
       "      <th>mos_ethnicity</th>\n",
       "      <th></th>\n",
       "      <th></th>\n",
       "      <th></th>\n",
       "      <th></th>\n",
       "      <th></th>\n",
       "      <th></th>\n",
       "    </tr>\n",
       "  </thead>\n",
       "  <tbody>\n",
       "    <tr>\n",
       "      <th>American Indian</th>\n",
       "      <td>0.0</td>\n",
       "      <td>0.0</td>\n",
       "      <td>18.0</td>\n",
       "      <td>2.0</td>\n",
       "      <td>6.0</td>\n",
       "      <td>2.0</td>\n",
       "    </tr>\n",
       "    <tr>\n",
       "      <th>Asian</th>\n",
       "      <td>2.0</td>\n",
       "      <td>61.0</td>\n",
       "      <td>558.0</td>\n",
       "      <td>236.0</td>\n",
       "      <td>19.0</td>\n",
       "      <td>129.0</td>\n",
       "    </tr>\n",
       "    <tr>\n",
       "      <th>Black</th>\n",
       "      <td>4.0</td>\n",
       "      <td>58.0</td>\n",
       "      <td>2846.0</td>\n",
       "      <td>709.0</td>\n",
       "      <td>98.0</td>\n",
       "      <td>380.0</td>\n",
       "    </tr>\n",
       "    <tr>\n",
       "      <th>Hispanic</th>\n",
       "      <td>8.0</td>\n",
       "      <td>96.0</td>\n",
       "      <td>4722.0</td>\n",
       "      <td>2215.0</td>\n",
       "      <td>187.0</td>\n",
       "      <td>625.0</td>\n",
       "    </tr>\n",
       "    <tr>\n",
       "      <th>White</th>\n",
       "      <td>50.0</td>\n",
       "      <td>317.0</td>\n",
       "      <td>8970.0</td>\n",
       "      <td>3262.0</td>\n",
       "      <td>367.0</td>\n",
       "      <td>1647.0</td>\n",
       "    </tr>\n",
       "  </tbody>\n",
       "</table>\n",
       "</div>"
      ],
      "text/plain": [
       "complainant_ethnicity  American Indian  Asian   Black  Hispanic  Other Race  \\\n",
       "mos_ethnicity                                                                 \n",
       "American Indian                    0.0    0.0    18.0       2.0         6.0   \n",
       "Asian                              2.0   61.0   558.0     236.0        19.0   \n",
       "Black                              4.0   58.0  2846.0     709.0        98.0   \n",
       "Hispanic                           8.0   96.0  4722.0    2215.0       187.0   \n",
       "White                             50.0  317.0  8970.0    3262.0       367.0   \n",
       "\n",
       "complainant_ethnicity   White  \n",
       "mos_ethnicity                  \n",
       "American Indian           2.0  \n",
       "Asian                   129.0  \n",
       "Black                   380.0  \n",
       "Hispanic                625.0  \n",
       "White                  1647.0  "
      ]
     },
     "execution_count": 8,
     "metadata": {},
     "output_type": "execute_result"
    }
   ],
   "source": [
    "race_on_each_police = nypd.pivot_table(index = 'mos_ethnicity', columns = 'complainant_ethnicity', values = 'month_received',aggfunc = 'count')\n",
    "race_on_each_police = race_on_each_police.fillna(0)\n",
    "race_on_each_police"
   ]
  },
  {
   "cell_type": "code",
   "execution_count": 9,
   "metadata": {},
   "outputs": [
    {
     "data": {
      "text/plain": [
       "Text(0.5, 0, 'mos_ethnicity')"
      ]
     },
     "execution_count": 9,
     "metadata": {},
     "output_type": "execute_result"
    },
    {
     "data": {
      "image/png": "[encoded data removed]",
      "text/plain": [
       "<Figure size 432x288 with 1 Axes>"
      ]
     },
     "metadata": {
      "image/png": {
       "height": 334,
       "width": 395
      },
      "needs_background": "light"
     },
     "output_type": "display_data"
    }
   ],
   "source": [
    "race_on_each_police.plot(kind = 'bar')\n",
    "plt.ylabel('Counts')\n",
    "plt.xlabel('mos_ethnicity')"
   ]
  },
  {
   "cell_type": "markdown",
   "metadata": {},
   "source": [
    "### Assessment of Missingness"
   ]
  },
  {
   "cell_type": "markdown",
   "metadata": {},
   "source": [
    "### permutation test functions for categorical case and quantitative case"
   ]
  },
  {
   "cell_type": "code",
   "execution_count": 205,
   "metadata": {},
   "outputs": [],
   "source": [
    "# permutation test for categorical columns using tvd\n",
    "def permutation_categorical(nypd, missing_value_column, other_column):\n",
    "    df = nypd.copy()\n",
    "    missing_value_boolean = nypd[missing_value_column].isna()\n",
    "    df['is_null'] = missing_value_boolean\n",
    "    \n",
    "    distr = df.pivot_table(index = 'is_null', columns = other_column, aggfunc = 'size').apply(lambda x: x / x.sum(), axis = 1)\n",
    "    distr = distr.fillna(0)\n",
    "    obs_tvd = distr.diff().iloc[-1].abs().sum()/2\n",
    "\n",
    "    tvds = []\n",
    "    for _ in range(1000):\n",
    "    \n",
    "        # shuffle the gender column\n",
    "        shuffled_col = (df[other_column].sample(replace=False, frac=1).reset_index(drop=True))\n",
    "    \n",
    "        # put them in a table\n",
    "        df = (df.assign(**{'shuffled_col': shuffled_col}))\n",
    "    \n",
    "        # compute the tvd\n",
    "        shuffled = (df.pivot_table(index='is_null', columns='shuffled_col', aggfunc='size').apply(lambda x:x / x.sum(), axis=1))\n",
    "        shuffled = shuffled.fillna(0)\n",
    "        tvd = shuffled.diff().iloc[-1].abs().sum() / 2\n",
    "    \n",
    "        # add it to the list of results\n",
    "        tvds.append(tvd)\n",
    "    \n",
    "    pvalue = (pd.Series(tvds) >= obs_tvd).mean()\n",
    "\n",
    "    return pvalue"
   ]
  },
  {
   "cell_type": "code",
   "execution_count": 197,
   "metadata": {},
   "outputs": [],
   "source": [
    "#permutation test for quantitative columns using ks\n",
    "def permutaion_quantitative(nypd, missing_value_column, other_column):\n",
    "    df = nypd.copy()\n",
    "    df['is_null'] = df[missing_value_column].isna()\n",
    "    \n",
    "    ks_lst = []\n",
    "    grouped = df.groupby('is_null')[other_column]\n",
    "    obs = ks_2samp(grouped.get_group(True), grouped.get_group(False)).statistic\n",
    "    \n",
    "    for _ in range(1000):\n",
    "        # shuffle the gender column\n",
    "        shuffled_col = (df[other_column].sample(replace=False, frac=1).reset_index(drop=True))\n",
    "        \n",
    "        # put them in a table\n",
    "        df = (df.assign(**{'shuffled_col': shuffled_col}))\n",
    "        \n",
    "        # group by shuffled\n",
    "        grouped_shuffled = df.groupby('is_null')['shuffled_col']\n",
    "        \n",
    "        ks = ks_2samp(grouped_shuffled.get_group(True), grouped_shuffled.get_group(False)).statistic\n",
    "        ks_lst.append(ks)\n",
    "    p_val = (np.array(ks_lst) > obs).mean()\n",
    "    return p_val"
   ]
  },
  {
   "cell_type": "markdown",
   "metadata": {},
   "source": [
    "### to show in dataframe"
   ]
  },
  {
   "cell_type": "code",
   "execution_count": 198,
   "metadata": {},
   "outputs": [],
   "source": [
    "quantitative = ['year_received', 'year_closed', 'mos_age_incident', 'complainant_age_incident']\n",
    "categorical = []\n",
    "for i in nypd.columns:\n",
    "    if i in quantitative:\n",
    "        continue;\n",
    "    else:\n",
    "        categorical.append(i)\n",
    "dict_nypd = {}\n",
    "for i in nypd.columns:\n",
    "    dict_nypd[i] = 0.000\n",
    "pval_df = pd.Series(dict_nypd).to_frame()\n",
    "\n",
    "pval_df = pval_df.rename(columns = {0:'p-val'})"
   ]
  },
  {
   "cell_type": "markdown",
   "metadata": {},
   "source": [
    "### for complainants_ethnicity permutation test"
   ]
  },
  {
   "cell_type": "code",
   "execution_count": 201,
   "metadata": {},
   "outputs": [],
   "source": [
    "pval_df_ethnicity = pval_df.copy()\n",
    "# permutation test of missingness for categorical columns\n",
    "for i in nypd.columns:\n",
    "    if ((i not in quantitative)):\n",
    "        p_val = permutation_categorical(nypd, 'complainant_ethnicity', i)\n",
    "        pval_df_ethnicity['p-val'][i] = p_val"
   ]
  },
  {
   "cell_type": "code",
   "execution_count": 202,
   "metadata": {},
   "outputs": [],
   "source": [
    "# permutation test of missingness for qualitative columns with ks method\n",
    "for j in quantitative:\n",
    "    p_value = permutaion_quantitative(nypd, 'complainant_ethnicity', j)\n",
    "    pval_df_ethnicity['p-val'][j] = p_val"
   ]
  },
  {
   "cell_type": "code",
   "execution_count": 203,
   "metadata": {},
   "outputs": [
    {
     "data": {
      "text/html": [
       "<div>\n",
       "<style scoped>\n",
       "    .dataframe tbody tr th:only-of-type {\n",
       "        vertical-align: middle;\n",
       "    }\n",
       "\n",
       "    .dataframe tbody tr th {\n",
       "        vertical-align: top;\n",
       "    }\n",
       "\n",
       "    .dataframe thead th {\n",
       "        text-align: right;\n",
       "    }\n",
       "</style>\n",
       "<table border=\"1\" class=\"dataframe\">\n",
       "  <thead>\n",
       "    <tr style=\"text-align: right;\">\n",
       "      <th></th>\n",
       "      <th>p-val</th>\n",
       "    </tr>\n",
       "  </thead>\n",
       "  <tbody>\n",
       "    <tr>\n",
       "      <th>unique_mos_id</th>\n",
       "      <td>0.000</td>\n",
       "    </tr>\n",
       "    <tr>\n",
       "      <th>first_name</th>\n",
       "      <td>0.000</td>\n",
       "    </tr>\n",
       "    <tr>\n",
       "      <th>last_name</th>\n",
       "      <td>0.000</td>\n",
       "    </tr>\n",
       "    <tr>\n",
       "      <th>command_now</th>\n",
       "      <td>0.000</td>\n",
       "    </tr>\n",
       "    <tr>\n",
       "      <th>shield_no</th>\n",
       "      <td>0.000</td>\n",
       "    </tr>\n",
       "    <tr>\n",
       "      <th>complaint_id</th>\n",
       "      <td>0.000</td>\n",
       "    </tr>\n",
       "    <tr>\n",
       "      <th>month_received</th>\n",
       "      <td>0.001</td>\n",
       "    </tr>\n",
       "    <tr>\n",
       "      <th>year_received</th>\n",
       "      <td>0.000</td>\n",
       "    </tr>\n",
       "    <tr>\n",
       "      <th>month_closed</th>\n",
       "      <td>0.000</td>\n",
       "    </tr>\n",
       "    <tr>\n",
       "      <th>year_closed</th>\n",
       "      <td>0.000</td>\n",
       "    </tr>\n",
       "    <tr>\n",
       "      <th>command_at_incident</th>\n",
       "      <td>0.000</td>\n",
       "    </tr>\n",
       "    <tr>\n",
       "      <th>rank_abbrev_incident</th>\n",
       "      <td>0.000</td>\n",
       "    </tr>\n",
       "    <tr>\n",
       "      <th>rank_abbrev_now</th>\n",
       "      <td>0.000</td>\n",
       "    </tr>\n",
       "    <tr>\n",
       "      <th>rank_now</th>\n",
       "      <td>0.000</td>\n",
       "    </tr>\n",
       "    <tr>\n",
       "      <th>rank_incident</th>\n",
       "      <td>0.000</td>\n",
       "    </tr>\n",
       "    <tr>\n",
       "      <th>mos_ethnicity</th>\n",
       "      <td>0.000</td>\n",
       "    </tr>\n",
       "    <tr>\n",
       "      <th>mos_gender</th>\n",
       "      <td>0.000</td>\n",
       "    </tr>\n",
       "    <tr>\n",
       "      <th>mos_age_incident</th>\n",
       "      <td>0.000</td>\n",
       "    </tr>\n",
       "    <tr>\n",
       "      <th>complainant_gender</th>\n",
       "      <td>0.000</td>\n",
       "    </tr>\n",
       "    <tr>\n",
       "      <th>complainant_age_incident</th>\n",
       "      <td>0.000</td>\n",
       "    </tr>\n",
       "    <tr>\n",
       "      <th>fado_type</th>\n",
       "      <td>0.000</td>\n",
       "    </tr>\n",
       "    <tr>\n",
       "      <th>allegation</th>\n",
       "      <td>0.000</td>\n",
       "    </tr>\n",
       "    <tr>\n",
       "      <th>precinct</th>\n",
       "      <td>0.000</td>\n",
       "    </tr>\n",
       "    <tr>\n",
       "      <th>contact_reason</th>\n",
       "      <td>0.000</td>\n",
       "    </tr>\n",
       "    <tr>\n",
       "      <th>outcome_description</th>\n",
       "      <td>0.000</td>\n",
       "    </tr>\n",
       "    <tr>\n",
       "      <th>board_disposition</th>\n",
       "      <td>0.000</td>\n",
       "    </tr>\n",
       "  </tbody>\n",
       "</table>\n",
       "</div>"
      ],
      "text/plain": [
       "                          p-val\n",
       "unique_mos_id             0.000\n",
       "first_name                0.000\n",
       "last_name                 0.000\n",
       "command_now               0.000\n",
       "shield_no                 0.000\n",
       "complaint_id              0.000\n",
       "month_received            0.001\n",
       "year_received             0.000\n",
       "month_closed              0.000\n",
       "year_closed               0.000\n",
       "command_at_incident       0.000\n",
       "rank_abbrev_incident      0.000\n",
       "rank_abbrev_now           0.000\n",
       "rank_now                  0.000\n",
       "rank_incident             0.000\n",
       "mos_ethnicity             0.000\n",
       "mos_gender                0.000\n",
       "mos_age_incident          0.000\n",
       "complainant_gender        0.000\n",
       "complainant_age_incident  0.000\n",
       "fado_type                 0.000\n",
       "allegation                0.000\n",
       "precinct                  0.000\n",
       "contact_reason            0.000\n",
       "outcome_description       0.000\n",
       "board_disposition         0.000"
      ]
     },
     "execution_count": 203,
     "metadata": {},
     "output_type": "execute_result"
    }
   ],
   "source": [
    "# df.drop(index='cow', columns='small')\n",
    "pval_df_ethnicity.drop(index = 'complainant_ethnicity')"
   ]
  },
  {
   "cell_type": "markdown",
   "metadata": {},
   "source": [
    "### for contact_reason permutation test"
   ]
  },
  {
   "cell_type": "code",
   "execution_count": 166,
   "metadata": {},
   "outputs": [],
   "source": [
    "pval_df_contact_reason = pval_df.copy()\n",
    "# permutation test of missingness for categorical columns\n",
    "for i in nypd.columns:\n",
    "    if ((i not in quantitative)):\n",
    "        p_val = permutation_categorical(nypd, 'contact_reason', i)\n",
    "        pval_df_contact_reason['p-val'][i] = p_val\n",
    "# permutation test of missingness for qualitative columns with ks method\n",
    "for j in quantitative:\n",
    "    p_value = permutaion_quantitative(nypd, 'contact_reason', j)\n",
    "    pval_df_contact_reason['p-val'][j] = p_val"
   ]
  },
  {
   "cell_type": "code",
   "execution_count": 167,
   "metadata": {},
   "outputs": [
    {
     "data": {
      "text/html": [
       "<div>\n",
       "<style scoped>\n",
       "    .dataframe tbody tr th:only-of-type {\n",
       "        vertical-align: middle;\n",
       "    }\n",
       "\n",
       "    .dataframe tbody tr th {\n",
       "        vertical-align: top;\n",
       "    }\n",
       "\n",
       "    .dataframe thead th {\n",
       "        text-align: right;\n",
       "    }\n",
       "</style>\n",
       "<table border=\"1\" class=\"dataframe\">\n",
       "  <thead>\n",
       "    <tr style=\"text-align: right;\">\n",
       "      <th></th>\n",
       "      <th>p-val</th>\n",
       "    </tr>\n",
       "  </thead>\n",
       "  <tbody>\n",
       "    <tr>\n",
       "      <th>unique_mos_id</th>\n",
       "      <td>0.000</td>\n",
       "    </tr>\n",
       "    <tr>\n",
       "      <th>first_name</th>\n",
       "      <td>0.000</td>\n",
       "    </tr>\n",
       "    <tr>\n",
       "      <th>last_name</th>\n",
       "      <td>0.000</td>\n",
       "    </tr>\n",
       "    <tr>\n",
       "      <th>command_now</th>\n",
       "      <td>0.000</td>\n",
       "    </tr>\n",
       "    <tr>\n",
       "      <th>shield_no</th>\n",
       "      <td>0.018</td>\n",
       "    </tr>\n",
       "    <tr>\n",
       "      <th>complaint_id</th>\n",
       "      <td>0.000</td>\n",
       "    </tr>\n",
       "    <tr>\n",
       "      <th>month_received</th>\n",
       "      <td>0.000</td>\n",
       "    </tr>\n",
       "    <tr>\n",
       "      <th>year_received</th>\n",
       "      <td>0.254</td>\n",
       "    </tr>\n",
       "    <tr>\n",
       "      <th>month_closed</th>\n",
       "      <td>0.000</td>\n",
       "    </tr>\n",
       "    <tr>\n",
       "      <th>year_closed</th>\n",
       "      <td>0.254</td>\n",
       "    </tr>\n",
       "    <tr>\n",
       "      <th>command_at_incident</th>\n",
       "      <td>0.000</td>\n",
       "    </tr>\n",
       "    <tr>\n",
       "      <th>rank_abbrev_incident</th>\n",
       "      <td>0.261</td>\n",
       "    </tr>\n",
       "    <tr>\n",
       "      <th>rank_abbrev_now</th>\n",
       "      <td>0.000</td>\n",
       "    </tr>\n",
       "    <tr>\n",
       "      <th>rank_now</th>\n",
       "      <td>0.000</td>\n",
       "    </tr>\n",
       "    <tr>\n",
       "      <th>rank_incident</th>\n",
       "      <td>0.483</td>\n",
       "    </tr>\n",
       "    <tr>\n",
       "      <th>mos_ethnicity</th>\n",
       "      <td>0.093</td>\n",
       "    </tr>\n",
       "    <tr>\n",
       "      <th>mos_gender</th>\n",
       "      <td>0.770</td>\n",
       "    </tr>\n",
       "    <tr>\n",
       "      <th>mos_age_incident</th>\n",
       "      <td>0.254</td>\n",
       "    </tr>\n",
       "    <tr>\n",
       "      <th>complainant_ethnicity</th>\n",
       "      <td>0.242</td>\n",
       "    </tr>\n",
       "    <tr>\n",
       "      <th>complainant_gender</th>\n",
       "      <td>0.203</td>\n",
       "    </tr>\n",
       "    <tr>\n",
       "      <th>complainant_age_incident</th>\n",
       "      <td>0.254</td>\n",
       "    </tr>\n",
       "    <tr>\n",
       "      <th>fado_type</th>\n",
       "      <td>0.062</td>\n",
       "    </tr>\n",
       "    <tr>\n",
       "      <th>allegation</th>\n",
       "      <td>0.000</td>\n",
       "    </tr>\n",
       "    <tr>\n",
       "      <th>precinct</th>\n",
       "      <td>0.000</td>\n",
       "    </tr>\n",
       "    <tr>\n",
       "      <th>outcome_description</th>\n",
       "      <td>0.000</td>\n",
       "    </tr>\n",
       "    <tr>\n",
       "      <th>board_disposition</th>\n",
       "      <td>0.254</td>\n",
       "    </tr>\n",
       "  </tbody>\n",
       "</table>\n",
       "</div>"
      ],
      "text/plain": [
       "                          p-val\n",
       "unique_mos_id             0.000\n",
       "first_name                0.000\n",
       "last_name                 0.000\n",
       "command_now               0.000\n",
       "shield_no                 0.018\n",
       "complaint_id              0.000\n",
       "month_received            0.000\n",
       "year_received             0.254\n",
       "month_closed              0.000\n",
       "year_closed               0.254\n",
       "command_at_incident       0.000\n",
       "rank_abbrev_incident      0.261\n",
       "rank_abbrev_now           0.000\n",
       "rank_now                  0.000\n",
       "rank_incident             0.483\n",
       "mos_ethnicity             0.093\n",
       "mos_gender                0.770\n",
       "mos_age_incident          0.254\n",
       "complainant_ethnicity     0.242\n",
       "complainant_gender        0.203\n",
       "complainant_age_incident  0.254\n",
       "fado_type                 0.062\n",
       "allegation                0.000\n",
       "precinct                  0.000\n",
       "outcome_description       0.000\n",
       "board_disposition         0.254"
      ]
     },
     "execution_count": 167,
     "metadata": {},
     "output_type": "execute_result"
    }
   ],
   "source": [
    "pval_df_contact_reason.drop('contact_reason')"
   ]
  },
  {
   "cell_type": "markdown",
   "metadata": {},
   "source": [
    "### Hypothesis Test"
   ]
  },
  {
   "cell_type": "code",
   "execution_count": 11,
   "metadata": {},
   "outputs": [
    {
     "data": {
      "text/plain": [
       "American Indian    0.0017\n",
       "Asian              0.1397\n",
       "Black              0.2182\n",
       "Hispanic           0.2910\n",
       "Other Race         0.0284\n",
       "White              0.3210\n",
       "dtype: float64"
      ]
     },
     "execution_count": 11,
     "metadata": {},
     "output_type": "execute_result"
    }
   ],
   "source": [
    "# create population distribution\n",
    "d = {'American Indian': 0.0017, 'Asian': 0.1397, 'Black': 0.2182, 'Hispanic': 0.291, 'Other Race': 0.0284, 'White': 0.321}\n",
    "population_distribution_series = pd.Series(data = d, index = ['American Indian', 'Asian', 'Black', 'Hispanic', 'Other Race', 'White'])\n",
    "population_distribution_series"
   ]
  },
  {
   "cell_type": "markdown",
   "metadata": {},
   "source": [
    "### distribution of New York City for complainants and population"
   ]
  },
  {
   "cell_type": "code",
   "execution_count": 12,
   "metadata": {
    "ExecuteTime": {
     "end_time": "2019-10-31T23:36:28.666489Z",
     "start_time": "2019-10-31T23:36:28.664381Z"
    }
   },
   "outputs": [
    {
     "data": {
      "text/html": [
       "<div>\n",
       "<style scoped>\n",
       "    .dataframe tbody tr th:only-of-type {\n",
       "        vertical-align: middle;\n",
       "    }\n",
       "\n",
       "    .dataframe tbody tr th {\n",
       "        vertical-align: top;\n",
       "    }\n",
       "\n",
       "    .dataframe thead th {\n",
       "        text-align: right;\n",
       "    }\n",
       "</style>\n",
       "<table border=\"1\" class=\"dataframe\">\n",
       "  <thead>\n",
       "    <tr style=\"text-align: right;\">\n",
       "      <th></th>\n",
       "      <th>complaints_distribution</th>\n",
       "      <th>population_distribution</th>\n",
       "    </tr>\n",
       "    <tr>\n",
       "      <th>complainant_ethnicity</th>\n",
       "      <th></th>\n",
       "      <th></th>\n",
       "    </tr>\n",
       "  </thead>\n",
       "  <tbody>\n",
       "    <tr>\n",
       "      <th>American Indian</th>\n",
       "      <td>0.002319</td>\n",
       "      <td>0.0017</td>\n",
       "    </tr>\n",
       "    <tr>\n",
       "      <th>Asian</th>\n",
       "      <td>0.019280</td>\n",
       "      <td>0.1397</td>\n",
       "    </tr>\n",
       "    <tr>\n",
       "      <th>Black</th>\n",
       "      <td>0.620207</td>\n",
       "      <td>0.2182</td>\n",
       "    </tr>\n",
       "    <tr>\n",
       "      <th>Hispanic</th>\n",
       "      <td>0.232804</td>\n",
       "      <td>0.2910</td>\n",
       "    </tr>\n",
       "    <tr>\n",
       "      <th>Other Race</th>\n",
       "      <td>0.024534</td>\n",
       "      <td>0.0284</td>\n",
       "    </tr>\n",
       "    <tr>\n",
       "      <th>White</th>\n",
       "      <td>0.100855</td>\n",
       "      <td>0.3210</td>\n",
       "    </tr>\n",
       "  </tbody>\n",
       "</table>\n",
       "</div>"
      ],
      "text/plain": [
       "                       complaints_distribution  population_distribution\n",
       "complainant_ethnicity                                                  \n",
       "American Indian                       0.002319                   0.0017\n",
       "Asian                                 0.019280                   0.1397\n",
       "Black                                 0.620207                   0.2182\n",
       "Hispanic                              0.232804                   0.2910\n",
       "Other Race                            0.024534                   0.0284\n",
       "White                                 0.100855                   0.3210"
      ]
     },
     "execution_count": 12,
     "metadata": {},
     "output_type": "execute_result"
    }
   ],
   "source": [
    "# append population distribution to the complainants distribution\n",
    "grouped_race_complaints = nypd.groupby('complainant_ethnicity').agg({'month_received': 'count'})\n",
    "grouped_race_complaints['complaints_distribution'] = grouped_race_complaints['month_received'] / grouped_race_complaints['month_received'].sum(axis = 0)\n",
    "grouped_race_complaints['population_distribution'] = population_distribution_series\n",
    "grouped_race_complaints = grouped_race_complaints.drop('month_received', axis = 1)\n",
    "grouped_race_complaints"
   ]
  },
  {
   "cell_type": "markdown",
   "metadata": {},
   "source": [
    "### total variance distribution function"
   ]
  },
  {
   "cell_type": "code",
   "execution_count": 13,
   "metadata": {},
   "outputs": [],
   "source": [
    "# function of tvd\n",
    "def tvd(first_d, second_d):\n",
    "    return sum(abs(first_d - second_d)) / 2"
   ]
  },
  {
   "cell_type": "markdown",
   "metadata": {},
   "source": [
    "### hypothesis test and p-value"
   ]
  },
  {
   "cell_type": "code",
   "execution_count": 15,
   "metadata": {},
   "outputs": [
    {
     "data": {
      "text/plain": [
       "0.0"
      ]
     },
     "execution_count": 15,
     "metadata": {},
     "output_type": "execute_result"
    }
   ],
   "source": [
    "# test statistic (tvd) between complainants and population\n",
    "test_stat = tvd(grouped_race_complaints['complaints_distribution'], grouped_race_complaints['population_distribution'])\n",
    "\n",
    "# races of the complainants without nan value\n",
    "races = np.delete(nypd['complainant_ethnicity'].unique(), 1).copy()\n",
    "# make races to same order as index of grouped distribution dataframe\n",
    "races.sort()\n",
    "lst = []\n",
    "\n",
    "# perform hypothesis test\n",
    "for i in range(1000):\n",
    "    shuffled = np.random.choice(races, len(nypd['complainant_ethnicity'].dropna()),p = grouped_race_complaints['population_distribution'])\n",
    "    shuffled_series = pd.Series(shuffled)\n",
    "    grouped_race_complaints['shuffled_distribution'] = shuffled_series.value_counts() / len(shuffled)\n",
    "    shuffled_tvd = tvd(grouped_race_complaints['shuffled_distribution'], grouped_race_complaints['population_distribution'])\n",
    "    lst.append(shuffled_tvd)\n",
    "\n",
    "p_value = (np.array(lst) > test_stat).mean()\n",
    "p_value"
   ]
  }
 ],
 "metadata": {
  "kernelspec": {
   "display_name": "Python 3",
   "language": "python",
   "name": "python3"
  },
  "language_info": {
   "codemirror_mode": {
    "name": "ipython",
    "version": 3
   },
   "file_extension": ".py",
   "mimetype": "text/x-python",
   "name": "python",
   "nbconvert_exporter": "python",
   "pygments_lexer": "ipython3",
   "version": "3.8.5"
  }
 },
 "nbformat": 4,
 "nbformat_minor": 2
}
